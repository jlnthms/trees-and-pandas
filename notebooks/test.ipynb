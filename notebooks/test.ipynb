{
 "cells": [
  {
   "cell_type": "code",
   "execution_count": 1,
   "metadata": {
    "collapsed": true
   },
   "outputs": [
    {
     "data": {
      "text/plain": "   Age  Income Education Marital_Status Label\n0   25   50000  Bachelor         Single   Yes\n1   30   60000    Master        Married    No\n2   35   75000       PhD         Single   Yes\n3   20   40000  Bachelor         Single    No\n4   40   80000    Master        Married   Yes",
      "text/html": "<div>\n<style scoped>\n    .dataframe tbody tr th:only-of-type {\n        vertical-align: middle;\n    }\n\n    .dataframe tbody tr th {\n        vertical-align: top;\n    }\n\n    .dataframe thead th {\n        text-align: right;\n    }\n</style>\n<table border=\"1\" class=\"dataframe\">\n  <thead>\n    <tr style=\"text-align: right;\">\n      <th></th>\n      <th>Age</th>\n      <th>Income</th>\n      <th>Education</th>\n      <th>Marital_Status</th>\n      <th>Label</th>\n    </tr>\n  </thead>\n  <tbody>\n    <tr>\n      <th>0</th>\n      <td>25</td>\n      <td>50000</td>\n      <td>Bachelor</td>\n      <td>Single</td>\n      <td>Yes</td>\n    </tr>\n    <tr>\n      <th>1</th>\n      <td>30</td>\n      <td>60000</td>\n      <td>Master</td>\n      <td>Married</td>\n      <td>No</td>\n    </tr>\n    <tr>\n      <th>2</th>\n      <td>35</td>\n      <td>75000</td>\n      <td>PhD</td>\n      <td>Single</td>\n      <td>Yes</td>\n    </tr>\n    <tr>\n      <th>3</th>\n      <td>20</td>\n      <td>40000</td>\n      <td>Bachelor</td>\n      <td>Single</td>\n      <td>No</td>\n    </tr>\n    <tr>\n      <th>4</th>\n      <td>40</td>\n      <td>80000</td>\n      <td>Master</td>\n      <td>Married</td>\n      <td>Yes</td>\n    </tr>\n  </tbody>\n</table>\n</div>"
     },
     "execution_count": 1,
     "metadata": {},
     "output_type": "execute_result"
    }
   ],
   "source": [
    "import pandas as pd\n",
    "\n",
    "# Sample dataset with features and labels\n",
    "data = pd.DataFrame({\n",
    "    'Age': [25, 30, 35, 20, 40],\n",
    "    'Income': [50000, 60000, 75000, 40000, 80000],\n",
    "    'Education': ['Bachelor', 'Master', 'PhD', 'Bachelor', 'Master'],\n",
    "    'Marital_Status': ['Single', 'Married', 'Single', 'Single', 'Married'],\n",
    "    'Label': ['Yes', 'No', 'Yes', 'No', 'Yes']\n",
    "})\n",
    "\n",
    "data.head()"
   ]
  },
  {
   "cell_type": "code",
   "execution_count": 7,
   "outputs": [
    {
     "name": "stdout",
     "output_type": "stream",
     "text": [
      "   Age  Income Education Marital_Status Label\n",
      "0   25   50000  Bachelor         Single   Yes\n",
      "2   35   75000       PhD         Single   Yes\n",
      "3   20   40000  Bachelor         Single    No\n"
     ]
    }
   ],
   "source": [
    "from DecisionTree.node import *\n",
    "\n",
    "dataset = Dataset(data, 'Label', 'Yes')\n",
    "root = Root(dataset)\n",
    "root.select_feature()\n",
    "print(root.question.answer(dataset)[1])"
   ],
   "metadata": {
    "collapsed": false
   }
  },
  {
   "cell_type": "code",
   "execution_count": null,
   "outputs": [],
   "source": [],
   "metadata": {
    "collapsed": false
   }
  }
 ],
 "metadata": {
  "kernelspec": {
   "display_name": "Python 3",
   "language": "python",
   "name": "python3"
  },
  "language_info": {
   "codemirror_mode": {
    "name": "ipython",
    "version": 2
   },
   "file_extension": ".py",
   "mimetype": "text/x-python",
   "name": "python",
   "nbconvert_exporter": "python",
   "pygments_lexer": "ipython2",
   "version": "2.7.6"
  }
 },
 "nbformat": 4,
 "nbformat_minor": 0
}
