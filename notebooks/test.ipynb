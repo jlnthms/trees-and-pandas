{
 "cells": [
  {
   "cell_type": "code",
   "execution_count": 1,
   "metadata": {
    "collapsed": true
   },
   "outputs": [
    {
     "data": {
      "text/plain": "   Age  Income Education Level Employment Status Marital Status Owns a Home  \\\n0   32   45000     High School          Employed         Single          No   \n1   45   60000      Bachelor's     Self-Employed        Married         Yes   \n2   28   35000     High School        Unemployed         Single          No   \n3   50   75000        Master's          Employed        Married         Yes   \n4   35   55000      Bachelor's          Employed         Single         Yes   \n\n    Decision  \n0        Buy  \n1        Buy  \n2  Don't Buy  \n3        Buy  \n4        Buy  ",
      "text/html": "<div>\n<style scoped>\n    .dataframe tbody tr th:only-of-type {\n        vertical-align: middle;\n    }\n\n    .dataframe tbody tr th {\n        vertical-align: top;\n    }\n\n    .dataframe thead th {\n        text-align: right;\n    }\n</style>\n<table border=\"1\" class=\"dataframe\">\n  <thead>\n    <tr style=\"text-align: right;\">\n      <th></th>\n      <th>Age</th>\n      <th>Income</th>\n      <th>Education Level</th>\n      <th>Employment Status</th>\n      <th>Marital Status</th>\n      <th>Owns a Home</th>\n      <th>Decision</th>\n    </tr>\n  </thead>\n  <tbody>\n    <tr>\n      <th>0</th>\n      <td>32</td>\n      <td>45000</td>\n      <td>High School</td>\n      <td>Employed</td>\n      <td>Single</td>\n      <td>No</td>\n      <td>Buy</td>\n    </tr>\n    <tr>\n      <th>1</th>\n      <td>45</td>\n      <td>60000</td>\n      <td>Bachelor's</td>\n      <td>Self-Employed</td>\n      <td>Married</td>\n      <td>Yes</td>\n      <td>Buy</td>\n    </tr>\n    <tr>\n      <th>2</th>\n      <td>28</td>\n      <td>35000</td>\n      <td>High School</td>\n      <td>Unemployed</td>\n      <td>Single</td>\n      <td>No</td>\n      <td>Don't Buy</td>\n    </tr>\n    <tr>\n      <th>3</th>\n      <td>50</td>\n      <td>75000</td>\n      <td>Master's</td>\n      <td>Employed</td>\n      <td>Married</td>\n      <td>Yes</td>\n      <td>Buy</td>\n    </tr>\n    <tr>\n      <th>4</th>\n      <td>35</td>\n      <td>55000</td>\n      <td>Bachelor's</td>\n      <td>Employed</td>\n      <td>Single</td>\n      <td>Yes</td>\n      <td>Buy</td>\n    </tr>\n  </tbody>\n</table>\n</div>"
     },
     "execution_count": 1,
     "metadata": {},
     "output_type": "execute_result"
    }
   ],
   "source": [
    "import pandas as pd\n",
    "from Dataset.dataset import *\n",
    "\n",
    "# Sample dataset with features and labels\n",
    "data = {\n",
    "    'Age': [32, 45, 28, 50, 35, 40, 22, 60, 38, 48, 29, 55, 27, 33, 31, 42, 26, 44, 30, 52],\n",
    "    'Income': [45000, 60000, 35000, 75000, 55000, 50000, 30000, 80000, 60000, 70000, 35000, 75000, 40000, 48000, 55000, 62000, 32000, 68000, 45000, 72000],\n",
    "    'Education Level': ['High School', \"Bachelor's\", 'High School', \"Master's\", \"Bachelor's\", \"Bachelor's\", 'High School', 'Doctorate', \"Bachelor's\", \"Master's\", 'High School', \"Bachelor's\", 'High School', \"Bachelor's\", \"Bachelor's\", \"Master's\", \"Bachelor's\", \"Bachelor's\", 'High School', \"Master's\"],\n",
    "    'Employment Status': ['Employed', 'Self-Employed', 'Unemployed', 'Employed', 'Employed', 'Employed', 'Student', 'Employed', 'Employed', 'Employed', 'Unemployed', 'Employed', 'Employed', 'Employed', 'Employed', 'Employed', 'Employed', 'Employed', 'Employed', 'Employed'],\n",
    "    'Marital Status': ['Single', 'Married', 'Single', 'Married', 'Single', 'Divorced', 'Single', 'Married', 'Single', 'Married', 'Single', 'Married', 'Single', 'Divorced', 'Single', 'Married', 'Single', 'Divorced', 'Single', 'Married'],\n",
    "    'Owns a Home': ['No', 'Yes', 'No', 'Yes', 'Yes', 'No', 'No', 'Yes', 'Yes', 'Yes', 'No', 'Yes', 'No', 'No', 'Yes', 'Yes', 'No', 'Yes', 'No', 'Yes'],\n",
    "    'Decision': ['Buy', 'Buy', \"Don't Buy\", 'Buy', 'Buy', \"Don't Buy\", \"Don't Buy\", 'Buy', 'Buy', 'Buy', \"Don't Buy\", 'Buy', 'Buy', \"Don't Buy\", 'Buy', 'Buy', \"Don't Buy\", 'Buy', \"Don't Buy\", 'Buy']\n",
    "}\n",
    "\n",
    "df = pd.DataFrame(data)\n",
    "dataset = Dataset(df, 'Decision', 'Buy')\n",
    "df.head()"
   ]
  },
  {
   "cell_type": "code",
   "execution_count": 2,
   "outputs": [
    {
     "name": "stdout",
     "output_type": "stream",
     "text": [
      "|--- Is Income <= 50000?\n",
      "|   |--- True:\n",
      "|   |--- Is Income <= 35000?\n",
      "|   |   |--- True:\n",
      "|   |   |--- class: Don't Buy\n",
      "|   |   |--- False:\n",
      "|   |   |--- Is Age <= 32?\n",
      "|   |   |   |--- True:\n",
      "|   |   |   |--- class: Buy\n",
      "|   |   |   |--- False:\n",
      "|   |   |   |--- class: Don't Buy\n",
      "|   |--- False:\n",
      "|   |--- class: Buy\n"
     ]
    }
   ],
   "source": [
    "from DecisionTree.tree import *\n",
    "\n",
    "tree = DecisionTree(dataset)\n",
    "tree.fit(max_depth=3, min_samples=2)\n",
    "tree.print(tree.root)"
   ],
   "metadata": {
    "collapsed": false
   }
  },
  {
   "cell_type": "code",
   "execution_count": null,
   "outputs": [],
   "source": [],
   "metadata": {
    "collapsed": false
   }
  }
 ],
 "metadata": {
  "kernelspec": {
   "display_name": "Python 3",
   "language": "python",
   "name": "python3"
  },
  "language_info": {
   "codemirror_mode": {
    "name": "ipython",
    "version": 2
   },
   "file_extension": ".py",
   "mimetype": "text/x-python",
   "name": "python",
   "nbconvert_exporter": "python",
   "pygments_lexer": "ipython2",
   "version": "2.7.6"
  }
 },
 "nbformat": 4,
 "nbformat_minor": 0
}
