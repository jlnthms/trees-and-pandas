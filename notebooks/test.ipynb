{
 "cells": [
  {
   "cell_type": "markdown",
   "metadata": {},
   "source": [
    "## TESTING THE DECISION TREE\n",
    "\n",
    "The Iris dataset (https://archive.ics.uci.edu/dataset/53/iris) is among the most common benchmarks for decision trees. It contains values for three species of iris flowers classified by sepal and petal length/width. Let us load the dataset and fit a decision tree to see how it performs."
   ]
  },
  {
   "cell_type": "code",
   "execution_count": 7,
   "metadata": {
    "collapsed": true
   },
   "outputs": [],
   "source": [
    "import sys\n",
    "sys.path.append('../')\n",
    "import pandas as pd\n",
    "from Dataset.dataset import *"
   ]
  },
  {
   "cell_type": "markdown",
   "metadata": {},
   "source": [
    "The data is split into training and testing, then preprocessed: **The input must be a pandas dataframe containing the target column**."
   ]
  },
  {
   "cell_type": "code",
   "execution_count": 9,
   "metadata": {
    "collapsed": false
   },
   "outputs": [
    {
     "data": {
      "text/html": [
       "<div>\n",
       "<style scoped>\n",
       "    .dataframe tbody tr th:only-of-type {\n",
       "        vertical-align: middle;\n",
       "    }\n",
       "\n",
       "    .dataframe tbody tr th {\n",
       "        vertical-align: top;\n",
       "    }\n",
       "\n",
       "    .dataframe thead th {\n",
       "        text-align: right;\n",
       "    }\n",
       "</style>\n",
       "<table border=\"1\" class=\"dataframe\">\n",
       "  <thead>\n",
       "    <tr style=\"text-align: right;\">\n",
       "      <th></th>\n",
       "      <th>sepal length (cm)</th>\n",
       "      <th>sepal width (cm)</th>\n",
       "      <th>petal length (cm)</th>\n",
       "      <th>petal width (cm)</th>\n",
       "      <th>target</th>\n",
       "    </tr>\n",
       "  </thead>\n",
       "  <tbody>\n",
       "    <tr>\n",
       "      <th>0</th>\n",
       "      <td>4.4</td>\n",
       "      <td>3.0</td>\n",
       "      <td>1.3</td>\n",
       "      <td>0.2</td>\n",
       "      <td>0</td>\n",
       "    </tr>\n",
       "    <tr>\n",
       "      <th>1</th>\n",
       "      <td>6.0</td>\n",
       "      <td>2.2</td>\n",
       "      <td>4.0</td>\n",
       "      <td>1.0</td>\n",
       "      <td>1</td>\n",
       "    </tr>\n",
       "    <tr>\n",
       "      <th>2</th>\n",
       "      <td>4.4</td>\n",
       "      <td>2.9</td>\n",
       "      <td>1.4</td>\n",
       "      <td>0.2</td>\n",
       "      <td>0</td>\n",
       "    </tr>\n",
       "    <tr>\n",
       "      <th>3</th>\n",
       "      <td>5.8</td>\n",
       "      <td>2.7</td>\n",
       "      <td>4.1</td>\n",
       "      <td>1.0</td>\n",
       "      <td>1</td>\n",
       "    </tr>\n",
       "    <tr>\n",
       "      <th>4</th>\n",
       "      <td>5.7</td>\n",
       "      <td>2.6</td>\n",
       "      <td>3.5</td>\n",
       "      <td>1.0</td>\n",
       "      <td>1</td>\n",
       "    </tr>\n",
       "  </tbody>\n",
       "</table>\n",
       "</div>"
      ],
      "text/plain": [
       "   sepal length (cm)  sepal width (cm)  petal length (cm)  petal width (cm)  \\\n",
       "0                4.4               3.0                1.3               0.2   \n",
       "1                6.0               2.2                4.0               1.0   \n",
       "2                4.4               2.9                1.4               0.2   \n",
       "3                5.8               2.7                4.1               1.0   \n",
       "4                5.7               2.6                3.5               1.0   \n",
       "\n",
       "   target  \n",
       "0       0  \n",
       "1       1  \n",
       "2       0  \n",
       "3       1  \n",
       "4       1  "
      ]
     },
     "execution_count": 9,
     "metadata": {},
     "output_type": "execute_result"
    }
   ],
   "source": [
    "from sklearn import datasets\n",
    "from sklearn.model_selection import train_test_split\n",
    "\n",
    "X, y = datasets.load_iris(return_X_y=True, as_frame=True)\n",
    "X_train,X_test,y_train,y_test=train_test_split(X,y,test_size=0.2)\n",
    "iris_df = pd.concat([X_train,y_train], axis=1).reset_index(drop=True)\n",
    "iris_df.head()"
   ]
  },
  {
   "cell_type": "markdown",
   "metadata": {},
   "source": [
    "#### Fit and Print the decision tree\n",
    "\n",
    "Here, we set the maximum authorized depth to 8 and the minimum samples per leaf to its default value of 2.\n",
    "Note that the depth of the tree below is actually inferior to 8 which suggest it succeeded to obtains only pure leafs on the training set."
   ]
  },
  {
   "cell_type": "code",
   "execution_count": 10,
   "metadata": {
    "collapsed": false
   },
   "outputs": [
    {
     "name": "stdout",
     "output_type": "stream",
     "text": [
      "|--- Is petal length (cm) <= 1.9?\n",
      "|   |--- True:\n",
      "|   |--- class: 0.0\n",
      "|   |--- False:\n",
      "|   |--- Is petal width (cm) <= 1.7?\n",
      "|   |   |--- True:\n",
      "|   |   |--- Is petal length (cm) <= 5.1?\n",
      "|   |   |   |--- True:\n",
      "|   |   |   |--- Is sepal length (cm) <= 4.9?\n",
      "|   |   |   |   |--- True:\n",
      "|   |   |   |   |--- class: 2.0\n",
      "|   |   |   |   |--- False:\n",
      "|   |   |   |   |--- Is petal length (cm) <= 4.9?\n",
      "|   |   |   |   |   |--- True:\n",
      "|   |   |   |   |   |--- class: 1.0\n",
      "|   |   |   |   |   |--- False:\n",
      "|   |   |   |   |   |--- Is sepal width (cm) <= 2.2?\n",
      "|   |   |   |   |   |   |--- True:\n",
      "|   |   |   |   |   |   |--- class: 2.0\n",
      "|   |   |   |   |   |   |--- False:\n",
      "|   |   |   |   |   |   |--- class: 1.0\n",
      "|   |   |   |--- False:\n",
      "|   |   |   |--- class: 2.0\n",
      "|   |   |--- False:\n",
      "|   |   |--- Is petal length (cm) <= 4.8?\n",
      "|   |   |   |--- True:\n",
      "|   |   |   |--- class: 2.0\n",
      "|   |   |   |--- False:\n",
      "|   |   |   |--- class: 2.0\n"
     ]
    }
   ],
   "source": [
    "iris_dataset = Dataset(iris_df, 'target')\n",
    "tree = DecisionTree(iris_dataset)\n",
    "tree.fit(max_depth=8, min_samples=2)\n",
    "tree.print(tree.root)"
   ]
  },
  {
   "cell_type": "markdown",
   "metadata": {},
   "source": [
    "#### Compare predictions with targets"
   ]
  },
  {
   "cell_type": "code",
   "execution_count": 15,
   "metadata": {
    "collapsed": false
   },
   "outputs": [
    {
     "data": {
      "text/html": [
       "<div>\n",
       "<style scoped>\n",
       "    .dataframe tbody tr th:only-of-type {\n",
       "        vertical-align: middle;\n",
       "    }\n",
       "\n",
       "    .dataframe tbody tr th {\n",
       "        vertical-align: top;\n",
       "    }\n",
       "\n",
       "    .dataframe thead th {\n",
       "        text-align: right;\n",
       "    }\n",
       "</style>\n",
       "<table border=\"1\" class=\"dataframe\">\n",
       "  <thead>\n",
       "    <tr style=\"text-align: right;\">\n",
       "      <th></th>\n",
       "      <th>predictions</th>\n",
       "      <th>targets</th>\n",
       "    </tr>\n",
       "  </thead>\n",
       "  <tbody>\n",
       "    <tr>\n",
       "      <th>0</th>\n",
       "      <td>0.0</td>\n",
       "      <td>0</td>\n",
       "    </tr>\n",
       "    <tr>\n",
       "      <th>1</th>\n",
       "      <td>1.0</td>\n",
       "      <td>1</td>\n",
       "    </tr>\n",
       "    <tr>\n",
       "      <th>2</th>\n",
       "      <td>1.0</td>\n",
       "      <td>1</td>\n",
       "    </tr>\n",
       "    <tr>\n",
       "      <th>3</th>\n",
       "      <td>0.0</td>\n",
       "      <td>0</td>\n",
       "    </tr>\n",
       "    <tr>\n",
       "      <th>4</th>\n",
       "      <td>0.0</td>\n",
       "      <td>0</td>\n",
       "    </tr>\n",
       "  </tbody>\n",
       "</table>\n",
       "</div>"
      ],
      "text/plain": [
       "   predictions  targets\n",
       "0          0.0        0\n",
       "1          1.0        1\n",
       "2          1.0        1\n",
       "3          0.0        0\n",
       "4          0.0        0"
      ]
     },
     "execution_count": 15,
     "metadata": {},
     "output_type": "execute_result"
    }
   ],
   "source": [
    "predictions = tree.predict(X_test)\n",
    "result = pd.concat([predictions, y_test.reset_index(drop=True)], axis=1)\n",
    "result.columns = ['predictions', 'targets']\n",
    "\n",
    "result.head()"
   ]
  }
 ],
 "metadata": {
  "kernelspec": {
   "display_name": "Python 3",
   "language": "python",
   "name": "python3"
  },
  "language_info": {
   "codemirror_mode": {
    "name": "ipython",
    "version": 3
   },
   "file_extension": ".py",
   "mimetype": "text/x-python",
   "name": "python",
   "nbconvert_exporter": "python",
   "pygments_lexer": "ipython3",
   "version": "3.9.6"
  }
 },
 "nbformat": 4,
 "nbformat_minor": 0
}
