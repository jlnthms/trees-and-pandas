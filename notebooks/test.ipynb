{
 "cells": [
  {
   "cell_type": "code",
   "execution_count": 1,
   "metadata": {
    "collapsed": true
   },
   "outputs": [
    {
     "data": {
      "text/html": [
       "<div>\n",
       "<style scoped>\n",
       "    .dataframe tbody tr th:only-of-type {\n",
       "        vertical-align: middle;\n",
       "    }\n",
       "\n",
       "    .dataframe tbody tr th {\n",
       "        vertical-align: top;\n",
       "    }\n",
       "\n",
       "    .dataframe thead th {\n",
       "        text-align: right;\n",
       "    }\n",
       "</style>\n",
       "<table border=\"1\" class=\"dataframe\">\n",
       "  <thead>\n",
       "    <tr style=\"text-align: right;\">\n",
       "      <th></th>\n",
       "      <th>Age</th>\n",
       "      <th>Income</th>\n",
       "      <th>Education Level</th>\n",
       "      <th>Employment Status</th>\n",
       "      <th>Marital Status</th>\n",
       "      <th>Owns a Home</th>\n",
       "      <th>Decision</th>\n",
       "    </tr>\n",
       "  </thead>\n",
       "  <tbody>\n",
       "    <tr>\n",
       "      <th>0</th>\n",
       "      <td>32</td>\n",
       "      <td>45000</td>\n",
       "      <td>High School</td>\n",
       "      <td>Employed</td>\n",
       "      <td>Single</td>\n",
       "      <td>No</td>\n",
       "      <td>Buy</td>\n",
       "    </tr>\n",
       "    <tr>\n",
       "      <th>1</th>\n",
       "      <td>45</td>\n",
       "      <td>60000</td>\n",
       "      <td>Bachelor's</td>\n",
       "      <td>Self-Employed</td>\n",
       "      <td>Married</td>\n",
       "      <td>Yes</td>\n",
       "      <td>Buy</td>\n",
       "    </tr>\n",
       "    <tr>\n",
       "      <th>2</th>\n",
       "      <td>28</td>\n",
       "      <td>35000</td>\n",
       "      <td>High School</td>\n",
       "      <td>Unemployed</td>\n",
       "      <td>Single</td>\n",
       "      <td>No</td>\n",
       "      <td>Don't Buy</td>\n",
       "    </tr>\n",
       "    <tr>\n",
       "      <th>3</th>\n",
       "      <td>50</td>\n",
       "      <td>75000</td>\n",
       "      <td>Master's</td>\n",
       "      <td>Employed</td>\n",
       "      <td>Married</td>\n",
       "      <td>Yes</td>\n",
       "      <td>Buy</td>\n",
       "    </tr>\n",
       "    <tr>\n",
       "      <th>4</th>\n",
       "      <td>35</td>\n",
       "      <td>55000</td>\n",
       "      <td>Bachelor's</td>\n",
       "      <td>Employed</td>\n",
       "      <td>Single</td>\n",
       "      <td>Yes</td>\n",
       "      <td>Buy</td>\n",
       "    </tr>\n",
       "  </tbody>\n",
       "</table>\n",
       "</div>"
      ],
      "text/plain": [
       "   Age  Income Education Level Employment Status Marital Status Owns a Home  \\\n",
       "0   32   45000     High School          Employed         Single          No   \n",
       "1   45   60000      Bachelor's     Self-Employed        Married         Yes   \n",
       "2   28   35000     High School        Unemployed         Single          No   \n",
       "3   50   75000        Master's          Employed        Married         Yes   \n",
       "4   35   55000      Bachelor's          Employed         Single         Yes   \n",
       "\n",
       "    Decision  \n",
       "0        Buy  \n",
       "1        Buy  \n",
       "2  Don't Buy  \n",
       "3        Buy  \n",
       "4        Buy  "
      ]
     },
     "execution_count": 1,
     "metadata": {},
     "output_type": "execute_result"
    }
   ],
   "source": [
    "import sys\n",
    "sys.path.append('../')\n",
    "import pandas as pd\n",
    "from Dataset.dataset import *\n",
    "\n",
    "# Sample dataset with features and labels\n",
    "data = {\n",
    "    'Age': [32, 45, 28, 50, 35, 40, 22, 60, 38, 48, 29, 55, 27, 33, 31, 42, 26, 44, 30, 52],\n",
    "    'Income': [45000, 60000, 35000, 75000, 55000, 50000, 30000, 80000, 60000, 70000, 35000, 75000, 40000, 48000, 55000, 62000, 32000, 68000, 45000, 72000],\n",
    "    'Education Level': ['High School', \"Bachelor's\", 'High School', \"Master's\", \"Bachelor's\", \"Bachelor's\", 'High School', 'Doctorate', \"Bachelor's\", \"Master's\", 'High School', \"Bachelor's\", 'High School', \"Bachelor's\", \"Bachelor's\", \"Master's\", \"Bachelor's\", \"Bachelor's\", 'High School', \"Master's\"],\n",
    "    'Employment Status': ['Employed', 'Self-Employed', 'Unemployed', 'Employed', 'Employed', 'Employed', 'Student', 'Employed', 'Employed', 'Employed', 'Unemployed', 'Employed', 'Employed', 'Employed', 'Employed', 'Employed', 'Employed', 'Employed', 'Employed', 'Employed'],\n",
    "    'Marital Status': ['Single', 'Married', 'Single', 'Married', 'Single', 'Divorced', 'Single', 'Married', 'Single', 'Married', 'Single', 'Married', 'Single', 'Divorced', 'Single', 'Married', 'Single', 'Divorced', 'Single', 'Married'],\n",
    "    'Owns a Home': ['No', 'Yes', 'No', 'Yes', 'Yes', 'No', 'No', 'Yes', 'Yes', 'Yes', 'No', 'Yes', 'No', 'No', 'Yes', 'Yes', 'No', 'Yes', 'No', 'Yes'],\n",
    "    'Decision': ['Buy', 'Buy', \"Don't Buy\", 'Buy', 'Buy', \"Don't Buy\", \"Don't Buy\", 'Buy', 'Buy', 'Buy', \"Don't Buy\", 'Buy', 'Buy', \"Don't Buy\", 'Buy', 'Buy', \"Don't Buy\", 'Buy', \"Don't Buy\", 'Buy']\n",
    "}\n",
    "\n",
    "df = pd.DataFrame(data)\n",
    "dataset = Dataset(df, 'Decision')\n",
    "df.head()"
   ]
  },
  {
   "cell_type": "code",
   "execution_count": 2,
   "metadata": {
    "collapsed": false
   },
   "outputs": [
    {
     "name": "stdout",
     "output_type": "stream",
     "text": [
      "|--- Is Income <= 50000?\n",
      "|   |--- True:\n",
      "|   |--- Is Income <= 35000?\n",
      "|   |   |--- True:\n",
      "|   |   |--- class: Don't Buy\n",
      "|   |   |--- False:\n",
      "|   |   |--- Is Age <= 32?\n",
      "|   |   |   |--- True:\n",
      "|   |   |   |--- class: Buy\n",
      "|   |   |   |--- False:\n",
      "|   |   |   |--- class: Don't Buy\n",
      "|   |--- False:\n",
      "|   |--- class: Buy\n"
     ]
    }
   ],
   "source": [
    "from DecisionTree.tree import *\n",
    "\n",
    "tree = DecisionTree(dataset)\n",
    "tree.fit(max_depth=3, min_samples=2)\n",
    "tree.print(tree.root)"
   ]
  },
  {
   "cell_type": "code",
   "execution_count": 3,
   "metadata": {
    "collapsed": false
   },
   "outputs": [
    {
     "data": {
      "text/html": [
       "<div>\n",
       "<style scoped>\n",
       "    .dataframe tbody tr th:only-of-type {\n",
       "        vertical-align: middle;\n",
       "    }\n",
       "\n",
       "    .dataframe tbody tr th {\n",
       "        vertical-align: top;\n",
       "    }\n",
       "\n",
       "    .dataframe thead th {\n",
       "        text-align: right;\n",
       "    }\n",
       "</style>\n",
       "<table border=\"1\" class=\"dataframe\">\n",
       "  <thead>\n",
       "    <tr style=\"text-align: right;\">\n",
       "      <th></th>\n",
       "      <th>sepal length (cm)</th>\n",
       "      <th>sepal width (cm)</th>\n",
       "      <th>petal length (cm)</th>\n",
       "      <th>petal width (cm)</th>\n",
       "      <th>target</th>\n",
       "    </tr>\n",
       "  </thead>\n",
       "  <tbody>\n",
       "    <tr>\n",
       "      <th>0</th>\n",
       "      <td>4.9</td>\n",
       "      <td>3.1</td>\n",
       "      <td>1.5</td>\n",
       "      <td>0.1</td>\n",
       "      <td>0</td>\n",
       "    </tr>\n",
       "    <tr>\n",
       "      <th>1</th>\n",
       "      <td>7.0</td>\n",
       "      <td>3.2</td>\n",
       "      <td>4.7</td>\n",
       "      <td>1.4</td>\n",
       "      <td>1</td>\n",
       "    </tr>\n",
       "    <tr>\n",
       "      <th>2</th>\n",
       "      <td>7.4</td>\n",
       "      <td>2.8</td>\n",
       "      <td>6.1</td>\n",
       "      <td>1.9</td>\n",
       "      <td>2</td>\n",
       "    </tr>\n",
       "    <tr>\n",
       "      <th>3</th>\n",
       "      <td>7.9</td>\n",
       "      <td>3.8</td>\n",
       "      <td>6.4</td>\n",
       "      <td>2.0</td>\n",
       "      <td>2</td>\n",
       "    </tr>\n",
       "    <tr>\n",
       "      <th>4</th>\n",
       "      <td>5.8</td>\n",
       "      <td>2.6</td>\n",
       "      <td>4.0</td>\n",
       "      <td>1.2</td>\n",
       "      <td>1</td>\n",
       "    </tr>\n",
       "  </tbody>\n",
       "</table>\n",
       "</div>"
      ],
      "text/plain": [
       "   sepal length (cm)  sepal width (cm)  petal length (cm)  petal width (cm)  \\\n",
       "0                4.9               3.1                1.5               0.1   \n",
       "1                7.0               3.2                4.7               1.4   \n",
       "2                7.4               2.8                6.1               1.9   \n",
       "3                7.9               3.8                6.4               2.0   \n",
       "4                5.8               2.6                4.0               1.2   \n",
       "\n",
       "   target  \n",
       "0       0  \n",
       "1       1  \n",
       "2       2  \n",
       "3       2  \n",
       "4       1  "
      ]
     },
     "execution_count": 3,
     "metadata": {},
     "output_type": "execute_result"
    }
   ],
   "source": [
    "from sklearn import datasets\n",
    "from sklearn.model_selection import train_test_split\n",
    "\n",
    "X, y = datasets.load_iris(return_X_y=True, as_frame=True)\n",
    "X_train,X_test,y_train,y_test=train_test_split(X,y,test_size=0.5)\n",
    "iris_df = pd.concat([X_train,y_train], axis=1).reset_index(drop=True)\n",
    "iris_df.head()"
   ]
  },
  {
   "cell_type": "code",
   "execution_count": 4,
   "metadata": {
    "collapsed": false
   },
   "outputs": [
    {
     "name": "stdout",
     "output_type": "stream",
     "text": [
      "|--- Is petal length (cm) <= 1.9?\n",
      "|   |--- True:\n",
      "|   |--- class: 0.0\n",
      "|   |--- False:\n",
      "|   |--- Is petal length (cm) <= 4.7?\n",
      "|   |   |--- True:\n",
      "|   |   |--- class: 1.0\n",
      "|   |   |--- False:\n",
      "|   |   |--- Is petal width (cm) <= 1.7?\n",
      "|   |   |   |--- True:\n",
      "|   |   |   |--- Is sepal length (cm) <= 6.7?\n",
      "|   |   |   |   |--- True:\n",
      "|   |   |   |   |--- Is sepal width (cm) <= 2.2?\n",
      "|   |   |   |   |   |--- True:\n",
      "|   |   |   |   |   |--- class: 2.0\n",
      "|   |   |   |   |   |--- False:\n",
      "|   |   |   |   |   |--- class: 1.0\n",
      "|   |   |   |   |--- False:\n",
      "|   |   |   |   |--- class: 2.0\n",
      "|   |   |   |--- False:\n",
      "|   |   |   |--- Is sepal length (cm) <= 5.9?\n",
      "|   |   |   |   |--- True:\n",
      "|   |   |   |   |--- Is sepal length (cm) <= 5.8?\n",
      "|   |   |   |   |   |--- True:\n",
      "|   |   |   |   |   |--- class: 2.0\n",
      "|   |   |   |   |   |--- False:\n",
      "|   |   |   |   |   |--- class: 1.0\n",
      "|   |   |   |   |--- False:\n",
      "|   |   |   |   |--- class: 2.0\n"
     ]
    }
   ],
   "source": [
    "iris_dataset = Dataset(iris_df, 'target')\n",
    "tree = DecisionTree(iris_dataset)\n",
    "tree.fit(max_depth=8, min_samples=2)\n",
    "tree.print(tree.root)"
   ]
  },
  {
   "cell_type": "code",
   "execution_count": 5,
   "metadata": {
    "collapsed": false
   },
   "outputs": [
    {
     "data": {
      "text/html": [
       "<div>\n",
       "<style scoped>\n",
       "    .dataframe tbody tr th:only-of-type {\n",
       "        vertical-align: middle;\n",
       "    }\n",
       "\n",
       "    .dataframe tbody tr th {\n",
       "        vertical-align: top;\n",
       "    }\n",
       "\n",
       "    .dataframe thead th {\n",
       "        text-align: right;\n",
       "    }\n",
       "</style>\n",
       "<table border=\"1\" class=\"dataframe\">\n",
       "  <thead>\n",
       "    <tr style=\"text-align: right;\">\n",
       "      <th></th>\n",
       "      <th>0</th>\n",
       "    </tr>\n",
       "  </thead>\n",
       "  <tbody>\n",
       "    <tr>\n",
       "      <th>0</th>\n",
       "      <td>1.0</td>\n",
       "    </tr>\n",
       "    <tr>\n",
       "      <th>1</th>\n",
       "      <td>2.0</td>\n",
       "    </tr>\n",
       "    <tr>\n",
       "      <th>2</th>\n",
       "      <td>1.0</td>\n",
       "    </tr>\n",
       "    <tr>\n",
       "      <th>3</th>\n",
       "      <td>0.0</td>\n",
       "    </tr>\n",
       "    <tr>\n",
       "      <th>4</th>\n",
       "      <td>2.0</td>\n",
       "    </tr>\n",
       "  </tbody>\n",
       "</table>\n",
       "</div>"
      ],
      "text/plain": [
       "     0\n",
       "0  1.0\n",
       "1  2.0\n",
       "2  1.0\n",
       "3  0.0\n",
       "4  2.0"
      ]
     },
     "execution_count": 5,
     "metadata": {},
     "output_type": "execute_result"
    }
   ],
   "source": [
    "predictions = tree.predict(X_test)\n",
    "predictions.head()\n",
    "#X_test.head()"
   ]
  },
  {
   "cell_type": "code",
   "execution_count": 6,
   "metadata": {},
   "outputs": [
    {
     "data": {
      "text/plain": [
       "51     1\n",
       "76     1\n",
       "78     1\n",
       "14     0\n",
       "120    2\n",
       "Name: target, dtype: int64"
      ]
     },
     "execution_count": 6,
     "metadata": {},
     "output_type": "execute_result"
    }
   ],
   "source": [
    "y_test.head()"
   ]
  }
 ],
 "metadata": {
  "kernelspec": {
   "display_name": "Python 3",
   "language": "python",
   "name": "python3"
  },
  "language_info": {
   "codemirror_mode": {
    "name": "ipython",
    "version": 3
   },
   "file_extension": ".py",
   "mimetype": "text/x-python",
   "name": "python",
   "nbconvert_exporter": "python",
   "pygments_lexer": "ipython3",
   "version": "3.9.6"
  }
 },
 "nbformat": 4,
 "nbformat_minor": 0
}
